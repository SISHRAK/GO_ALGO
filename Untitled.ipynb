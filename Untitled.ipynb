{
 "cells": [
  {
   "cell_type": "code",
   "execution_count": 1,
   "id": "77e2df69-e147-42a5-8286-223353655014",
   "metadata": {},
   "outputs": [
    {
     "data": {
      "text/html": [
       "<div>\n",
       "<style scoped>\n",
       "    .dataframe tbody tr th:only-of-type {\n",
       "        vertical-align: middle;\n",
       "    }\n",
       "\n",
       "    .dataframe tbody tr th {\n",
       "        vertical-align: top;\n",
       "    }\n",
       "\n",
       "    .dataframe thead th {\n",
       "        text-align: right;\n",
       "    }\n",
       "</style>\n",
       "<table border=\"1\" class=\"dataframe\">\n",
       "  <thead>\n",
       "    <tr style=\"text-align: right;\">\n",
       "      <th></th>\n",
       "      <th>open</th>\n",
       "      <th>close</th>\n",
       "      <th>high</th>\n",
       "      <th>low</th>\n",
       "      <th>value</th>\n",
       "      <th>volume</th>\n",
       "      <th>begin</th>\n",
       "      <th>end</th>\n",
       "    </tr>\n",
       "  </thead>\n",
       "  <tbody>\n",
       "    <tr>\n",
       "      <th>0</th>\n",
       "      <td>255.99</td>\n",
       "      <td>255.00</td>\n",
       "      <td>258.19</td>\n",
       "      <td>253.70</td>\n",
       "      <td>9.165475e+09</td>\n",
       "      <td>35851840.0</td>\n",
       "      <td>2020-01-03</td>\n",
       "      <td>2020-01-03 23:59:59</td>\n",
       "    </tr>\n",
       "    <tr>\n",
       "      <th>1</th>\n",
       "      <td>254.75</td>\n",
       "      <td>253.90</td>\n",
       "      <td>254.84</td>\n",
       "      <td>251.40</td>\n",
       "      <td>5.646010e+09</td>\n",
       "      <td>22348300.0</td>\n",
       "      <td>2020-01-06</td>\n",
       "      <td>2020-01-06 23:59:59</td>\n",
       "    </tr>\n",
       "    <tr>\n",
       "      <th>2</th>\n",
       "      <td>253.57</td>\n",
       "      <td>259.15</td>\n",
       "      <td>259.15</td>\n",
       "      <td>253.03</td>\n",
       "      <td>1.048588e+10</td>\n",
       "      <td>40817240.0</td>\n",
       "      <td>2020-01-08</td>\n",
       "      <td>2020-01-08 23:59:59</td>\n",
       "    </tr>\n",
       "    <tr>\n",
       "      <th>3</th>\n",
       "      <td>259.40</td>\n",
       "      <td>257.99</td>\n",
       "      <td>261.76</td>\n",
       "      <td>257.01</td>\n",
       "      <td>9.936032e+09</td>\n",
       "      <td>38329020.0</td>\n",
       "      <td>2020-01-09</td>\n",
       "      <td>2020-01-09 23:59:59</td>\n",
       "    </tr>\n",
       "    <tr>\n",
       "      <th>4</th>\n",
       "      <td>257.86</td>\n",
       "      <td>258.19</td>\n",
       "      <td>259.25</td>\n",
       "      <td>256.88</td>\n",
       "      <td>4.864405e+09</td>\n",
       "      <td>18851390.0</td>\n",
       "      <td>2020-01-10</td>\n",
       "      <td>2020-01-10 23:59:59</td>\n",
       "    </tr>\n",
       "  </tbody>\n",
       "</table>\n",
       "</div>"
      ],
      "text/plain": [
       "     open   close    high     low         value      volume      begin  \\\n",
       "0  255.99  255.00  258.19  253.70  9.165475e+09  35851840.0 2020-01-03   \n",
       "1  254.75  253.90  254.84  251.40  5.646010e+09  22348300.0 2020-01-06   \n",
       "2  253.57  259.15  259.15  253.03  1.048588e+10  40817240.0 2020-01-08   \n",
       "3  259.40  257.99  261.76  257.01  9.936032e+09  38329020.0 2020-01-09   \n",
       "4  257.86  258.19  259.25  256.88  4.864405e+09  18851390.0 2020-01-10   \n",
       "\n",
       "                  end  \n",
       "0 2020-01-03 23:59:59  \n",
       "1 2020-01-06 23:59:59  \n",
       "2 2020-01-08 23:59:59  \n",
       "3 2020-01-09 23:59:59  \n",
       "4 2020-01-10 23:59:59  "
      ]
     },
     "execution_count": 1,
     "metadata": {},
     "output_type": "execute_result"
    }
   ],
   "source": [
    "from moexalgo import Ticker\n",
    "from tqdm.auto import tqdm\n",
    "\n",
    "# выбираем акции Сбера\n",
    "sber = Ticker('SBER')\n",
    "\n",
    "# получим дневные свечи с 2020 года\n",
    "sber.candles(date='2020-01-01', till_date='2023-11-01', period='D').head()"
   ]
  },
  {
   "cell_type": "code",
   "execution_count": 2,
   "id": "828eb82b-7989-46bb-945e-98df632e782e",
   "metadata": {},
   "outputs": [],
   "source": [
    "import pandas as pd\n",
    "import time\n",
    "dates = ['2023-11-20', '2023-11-21', '2023-11-22', '2023-11-23', '2023-11-24']\n"
   ]
  },
  {
   "cell_type": "code",
   "execution_count": 3,
   "id": "3ae67f3a-c5f1-4f4c-86e2-8390e83c82b0",
   "metadata": {},
   "outputs": [
    {
     "data": {
      "application/vnd.jupyter.widget-view+json": {
       "model_id": "5935f5fbf1684d8da699caf494d03c7a",
       "version_major": 2,
       "version_minor": 0
      },
      "text/plain": [
       "  0%|          | 0/5 [00:00<?, ?it/s]"
      ]
     },
     "metadata": {},
     "output_type": "display_data"
    },
    {
     "name": "stdout",
     "output_type": "stream",
     "text": [
      "2023-11-20\n",
      "2023-11-21\n",
      "2023-11-22\n",
      "2023-11-23\n",
      "2023-11-24\n"
     ]
    }
   ],
   "source": [
    "tradestats = pd.DataFrame()\n",
    "for date in tqdm(dates):\n",
    "    print(date)\n",
    "    # запрос возвращает не более 1000 записей, чтобы получить все записи используем курсор\n",
    "    for cursor in range(25):\n",
    "        url = f'https://iss.moex.com/iss/datashop/algopack/eq/tradestats.csv?date={date}&start={cursor*1000}&iss.only=data'\n",
    "        df = pd.read_csv(url, sep=';', skiprows=2)\n",
    "        tradestats = pd.concat([tradestats, df])\n",
    "        if df.shape[0] < 1000:\n",
    "            break\n",
    "        \n",
    "        time.sleep(0.5)\n",
    "    \n",
    "tradestats.to_csv('tradestats.csv', index=None)\n",
    "        "
   ]
  },
  {
   "cell_type": "code",
   "execution_count": 4,
   "id": "277ab327-8a12-4fb3-b982-ec6db0eaa1b5",
   "metadata": {},
   "outputs": [
    {
     "data": {
      "text/html": [
       "<div>\n",
       "<style scoped>\n",
       "    .dataframe tbody tr th:only-of-type {\n",
       "        vertical-align: middle;\n",
       "    }\n",
       "\n",
       "    .dataframe tbody tr th {\n",
       "        vertical-align: top;\n",
       "    }\n",
       "\n",
       "    .dataframe thead th {\n",
       "        text-align: right;\n",
       "    }\n",
       "</style>\n",
       "<table border=\"1\" class=\"dataframe\">\n",
       "  <thead>\n",
       "    <tr style=\"text-align: right;\">\n",
       "      <th></th>\n",
       "      <th>tradedate</th>\n",
       "      <th>tradetime</th>\n",
       "      <th>secid</th>\n",
       "      <th>pr_open</th>\n",
       "      <th>pr_high</th>\n",
       "      <th>pr_low</th>\n",
       "      <th>pr_close</th>\n",
       "      <th>pr_std</th>\n",
       "      <th>vol</th>\n",
       "      <th>val</th>\n",
       "      <th>...</th>\n",
       "      <th>trades_b</th>\n",
       "      <th>trades_s</th>\n",
       "      <th>val_b</th>\n",
       "      <th>val_s</th>\n",
       "      <th>vol_b</th>\n",
       "      <th>vol_s</th>\n",
       "      <th>disb</th>\n",
       "      <th>pr_vwap_b</th>\n",
       "      <th>pr_vwap_s</th>\n",
       "      <th>SYSTIME</th>\n",
       "    </tr>\n",
       "  </thead>\n",
       "  <tbody>\n",
       "    <tr>\n",
       "      <th>0</th>\n",
       "      <td>2023-11-20</td>\n",
       "      <td>10:05:00</td>\n",
       "      <td>ABIO</td>\n",
       "      <td>100.000</td>\n",
       "      <td>101.000</td>\n",
       "      <td>99.92</td>\n",
       "      <td>100.400</td>\n",
       "      <td>0.0019</td>\n",
       "      <td>504</td>\n",
       "      <td>507458.8</td>\n",
       "      <td>...</td>\n",
       "      <td>37</td>\n",
       "      <td>38</td>\n",
       "      <td>276778.8</td>\n",
       "      <td>230680.0</td>\n",
       "      <td>275</td>\n",
       "      <td>229</td>\n",
       "      <td>0.1</td>\n",
       "      <td>100.650</td>\n",
       "      <td>100.730</td>\n",
       "      <td>2023-11-21 16:27:03</td>\n",
       "    </tr>\n",
       "    <tr>\n",
       "      <th>1</th>\n",
       "      <td>2023-11-20</td>\n",
       "      <td>10:05:00</td>\n",
       "      <td>ABRD</td>\n",
       "      <td>297.200</td>\n",
       "      <td>299.600</td>\n",
       "      <td>297.20</td>\n",
       "      <td>298.800</td>\n",
       "      <td>0.0017</td>\n",
       "      <td>208</td>\n",
       "      <td>620360.0</td>\n",
       "      <td>...</td>\n",
       "      <td>28</td>\n",
       "      <td>12</td>\n",
       "      <td>423514.0</td>\n",
       "      <td>196846.0</td>\n",
       "      <td>142</td>\n",
       "      <td>66</td>\n",
       "      <td>0.4</td>\n",
       "      <td>298.200</td>\n",
       "      <td>298.300</td>\n",
       "      <td>2023-11-21 16:27:03</td>\n",
       "    </tr>\n",
       "    <tr>\n",
       "      <th>2</th>\n",
       "      <td>2023-11-20</td>\n",
       "      <td>10:05:00</td>\n",
       "      <td>AFKS</td>\n",
       "      <td>16.558</td>\n",
       "      <td>16.599</td>\n",
       "      <td>16.55</td>\n",
       "      <td>16.572</td>\n",
       "      <td>0.0007</td>\n",
       "      <td>1136</td>\n",
       "      <td>1882645.3</td>\n",
       "      <td>...</td>\n",
       "      <td>77</td>\n",
       "      <td>79</td>\n",
       "      <td>734148.6</td>\n",
       "      <td>1148496.7</td>\n",
       "      <td>443</td>\n",
       "      <td>693</td>\n",
       "      <td>-0.2</td>\n",
       "      <td>16.572</td>\n",
       "      <td>16.573</td>\n",
       "      <td>2023-11-21 16:27:03</td>\n",
       "    </tr>\n",
       "    <tr>\n",
       "      <th>3</th>\n",
       "      <td>2023-11-20</td>\n",
       "      <td>10:05:00</td>\n",
       "      <td>AFLT</td>\n",
       "      <td>38.540</td>\n",
       "      <td>38.630</td>\n",
       "      <td>38.51</td>\n",
       "      <td>38.530</td>\n",
       "      <td>0.0007</td>\n",
       "      <td>11662</td>\n",
       "      <td>4497979.8</td>\n",
       "      <td>...</td>\n",
       "      <td>225</td>\n",
       "      <td>210</td>\n",
       "      <td>1713739.0</td>\n",
       "      <td>2784240.8</td>\n",
       "      <td>4444</td>\n",
       "      <td>7218</td>\n",
       "      <td>-0.2</td>\n",
       "      <td>38.560</td>\n",
       "      <td>38.570</td>\n",
       "      <td>2023-11-21 16:27:03</td>\n",
       "    </tr>\n",
       "    <tr>\n",
       "      <th>4</th>\n",
       "      <td>2023-11-20</td>\n",
       "      <td>10:05:00</td>\n",
       "      <td>AGRO</td>\n",
       "      <td>1468.600</td>\n",
       "      <td>1504.800</td>\n",
       "      <td>1458.20</td>\n",
       "      <td>1498.400</td>\n",
       "      <td>0.0007</td>\n",
       "      <td>93453</td>\n",
       "      <td>138904438.2</td>\n",
       "      <td>...</td>\n",
       "      <td>1254</td>\n",
       "      <td>1249</td>\n",
       "      <td>66302644.4</td>\n",
       "      <td>72601793.8</td>\n",
       "      <td>44647</td>\n",
       "      <td>48806</td>\n",
       "      <td>-0.0</td>\n",
       "      <td>1485.000</td>\n",
       "      <td>1487.600</td>\n",
       "      <td>2023-11-21 16:27:03</td>\n",
       "    </tr>\n",
       "  </tbody>\n",
       "</table>\n",
       "<p>5 rows × 23 columns</p>\n",
       "</div>"
      ],
      "text/plain": [
       "    tradedate tradetime secid   pr_open   pr_high   pr_low  pr_close  pr_std  \\\n",
       "0  2023-11-20  10:05:00  ABIO   100.000   101.000    99.92   100.400  0.0019   \n",
       "1  2023-11-20  10:05:00  ABRD   297.200   299.600   297.20   298.800  0.0017   \n",
       "2  2023-11-20  10:05:00  AFKS    16.558    16.599    16.55    16.572  0.0007   \n",
       "3  2023-11-20  10:05:00  AFLT    38.540    38.630    38.51    38.530  0.0007   \n",
       "4  2023-11-20  10:05:00  AGRO  1468.600  1504.800  1458.20  1498.400  0.0007   \n",
       "\n",
       "     vol          val  ...  trades_b  trades_s       val_b       val_s  vol_b  \\\n",
       "0    504     507458.8  ...        37        38    276778.8    230680.0    275   \n",
       "1    208     620360.0  ...        28        12    423514.0    196846.0    142   \n",
       "2   1136    1882645.3  ...        77        79    734148.6   1148496.7    443   \n",
       "3  11662    4497979.8  ...       225       210   1713739.0   2784240.8   4444   \n",
       "4  93453  138904438.2  ...      1254      1249  66302644.4  72601793.8  44647   \n",
       "\n",
       "   vol_s  disb  pr_vwap_b  pr_vwap_s              SYSTIME  \n",
       "0    229   0.1    100.650    100.730  2023-11-21 16:27:03  \n",
       "1     66   0.4    298.200    298.300  2023-11-21 16:27:03  \n",
       "2    693  -0.2     16.572     16.573  2023-11-21 16:27:03  \n",
       "3   7218  -0.2     38.560     38.570  2023-11-21 16:27:03  \n",
       "4  48806  -0.0   1485.000   1487.600  2023-11-21 16:27:03  \n",
       "\n",
       "[5 rows x 23 columns]"
      ]
     },
     "execution_count": 4,
     "metadata": {},
     "output_type": "execute_result"
    }
   ],
   "source": [
    "tradestats.head()"
   ]
  },
  {
   "cell_type": "code",
   "execution_count": 6,
   "id": "aaede5eb-3e52-4328-b6d4-a6ff68a194d0",
   "metadata": {},
   "outputs": [
    {
     "data": {
      "application/vnd.jupyter.widget-view+json": {
       "model_id": "7a9af6c967e143d8ab244dffd3d8e64e",
       "version_major": 2,
       "version_minor": 0
      },
      "text/plain": [
       "Summarize dataset:   0%|          | 0/5 [00:00<?, ?it/s]"
      ]
     },
     "metadata": {},
     "output_type": "display_data"
    },
    {
     "name": "stderr",
     "output_type": "stream",
     "text": [
      "/home/sishrak/.local/lib/python3.10/site-packages/ydata_profiling/model/correlations.py:66: UserWarning: There was an attempt to calculate the auto correlation, but this failed.\n",
      "To hide this warning, disable the calculation\n",
      "(using `df.profile_report(correlations={\"auto\": {\"calculate\": False}})`\n",
      "If this is problematic for your use case, please report this as an issue:\n",
      "https://github.com/ydataai/ydata-profiling/issues\n",
      "(include the error message: 'cannot reindex on an axis with duplicate labels')\n",
      "  warnings.warn(\n"
     ]
    },
    {
     "data": {
      "application/vnd.jupyter.widget-view+json": {
       "model_id": "175ffb1908a34bf79d3610a1a756c615",
       "version_major": 2,
       "version_minor": 0
      },
      "text/plain": [
       "Generate report structure:   0%|          | 0/1 [00:00<?, ?it/s]"
      ]
     },
     "metadata": {},
     "output_type": "display_data"
    },
    {
     "data": {
      "application/vnd.jupyter.widget-view+json": {
       "model_id": "c14d638988054dc0be64cea662887d27",
       "version_major": 2,
       "version_minor": 0
      },
      "text/plain": [
       "Render HTML:   0%|          | 0/1 [00:00<?, ?it/s]"
      ]
     },
     "metadata": {},
     "output_type": "display_data"
    },
    {
     "data": {
      "application/vnd.jupyter.widget-view+json": {
       "model_id": "686c782cdd8a408c94a6e754db1b774e",
       "version_major": 2,
       "version_minor": 0
      },
      "text/plain": [
       "Export report to file:   0%|          | 0/1 [00:00<?, ?it/s]"
      ]
     },
     "metadata": {},
     "output_type": "display_data"
    }
   ],
   "source": [
    "import matplotlib\n",
    "from ydata_profiling import ProfileReport\n",
    "report = ProfileReport(tradestats, title='My Data')\n",
    "report.to_file(\"hello.html\")\n"
   ]
  },
  {
   "cell_type": "code",
   "execution_count": 9,
   "id": "269c544d-7b7b-4b29-a5d6-967a6305cc28",
   "metadata": {},
   "outputs": [],
   "source": [
    "# Заметили, что цена зависит от vwap, а она в свою очередь зависит от sum(price*vol)/sum(price), попробуем обучить модель на методе кластеризации и проверить с помощью kNN. Попробуем придумать также алгоритм на основе математики. "
   ]
  }
 ],
 "metadata": {
  "kernelspec": {
   "display_name": "Python 3 (ipykernel)",
   "language": "python",
   "name": "python3"
  },
  "language_info": {
   "codemirror_mode": {
    "name": "ipython",
    "version": 3
   },
   "file_extension": ".py",
   "mimetype": "text/x-python",
   "name": "python",
   "nbconvert_exporter": "python",
   "pygments_lexer": "ipython3",
   "version": "3.10.12"
  }
 },
 "nbformat": 4,
 "nbformat_minor": 5
}
